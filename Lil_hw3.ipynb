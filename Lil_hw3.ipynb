{
 "cells": [
  {
   "cell_type": "code",
   "execution_count": 76,
   "metadata": {
    "colab": {},
    "colab_type": "code",
    "id": "mqGv68mM40MF"
   },
   "outputs": [],
   "source": [
    "import pandas as pd\n",
    "import numpy as np\n",
    "import matplotlib.pyplot as plt\n",
    "%matplotlib inline\n"
   ]
  },
  {
   "cell_type": "code",
   "execution_count": 98,
   "metadata": {
    "colab": {},
    "colab_type": "code",
    "id": "R95UD4Hw54mj"
   },
   "outputs": [],
   "source": [
    "from keras.models import Sequential\n",
    "from keras.layers.core import Dense, Activation\n",
    "from keras.callbacks import Callback\n",
    "from keras.optimizers import SGD\n",
    "from keras.utils import plot_model\n",
    "\n",
    "from tensorflow import set_random_seed\n",
    "set_random_seed(20)"
   ]
  },
  {
   "cell_type": "code",
   "execution_count": 99,
   "metadata": {
    "colab": {},
    "colab_type": "code",
    "id": "JEmQCOIPPr5z"
   },
   "outputs": [
    {
     "data": {
      "text/html": [
       "<div>\n",
       "<style scoped>\n",
       "    .dataframe tbody tr th:only-of-type {\n",
       "        vertical-align: middle;\n",
       "    }\n",
       "\n",
       "    .dataframe tbody tr th {\n",
       "        vertical-align: top;\n",
       "    }\n",
       "\n",
       "    .dataframe thead th {\n",
       "        text-align: right;\n",
       "    }\n",
       "</style>\n",
       "<table border=\"1\" class=\"dataframe\">\n",
       "  <thead>\n",
       "    <tr style=\"text-align: right;\">\n",
       "      <th></th>\n",
       "      <th>Nap</th>\n",
       "      <th>Tmax[°C]</th>\n",
       "      <th>Tmin[°C]</th>\n",
       "      <th>Szél[m/s]</th>\n",
       "      <th>Csapadék[mm]</th>\n",
       "    </tr>\n",
       "  </thead>\n",
       "  <tbody>\n",
       "    <tr>\n",
       "      <th>0</th>\n",
       "      <td>2019-01-01 00:00:00</td>\n",
       "      <td>NaN</td>\n",
       "      <td>NaN</td>\n",
       "      <td>NaN</td>\n",
       "      <td>NaN</td>\n",
       "    </tr>\n",
       "    <tr>\n",
       "      <th>1</th>\n",
       "      <td>kedd</td>\n",
       "      <td>2.7</td>\n",
       "      <td>-4.6</td>\n",
       "      <td>6.1</td>\n",
       "      <td>0.9</td>\n",
       "    </tr>\n",
       "    <tr>\n",
       "      <th>2</th>\n",
       "      <td>2019-01-02 00:00:00</td>\n",
       "      <td>NaN</td>\n",
       "      <td>NaN</td>\n",
       "      <td>NaN</td>\n",
       "      <td>NaN</td>\n",
       "    </tr>\n",
       "    <tr>\n",
       "      <th>3</th>\n",
       "      <td>szerda</td>\n",
       "      <td>3.1</td>\n",
       "      <td>-0.7</td>\n",
       "      <td>9.5</td>\n",
       "      <td>0.9</td>\n",
       "    </tr>\n",
       "    <tr>\n",
       "      <th>4</th>\n",
       "      <td>2019-01-03 00:00:00</td>\n",
       "      <td>NaN</td>\n",
       "      <td>NaN</td>\n",
       "      <td>NaN</td>\n",
       "      <td>NaN</td>\n",
       "    </tr>\n",
       "  </tbody>\n",
       "</table>\n",
       "</div>"
      ],
      "text/plain": [
       "                   Nap  Tmax[°C]  Tmin[°C]  Szél[m/s]  Csapadék[mm]\n",
       "0  2019-01-01 00:00:00       NaN       NaN        NaN           NaN\n",
       "1                 kedd       2.7      -4.6        6.1           0.9\n",
       "2  2019-01-02 00:00:00       NaN       NaN        NaN           NaN\n",
       "3               szerda       3.1      -0.7        9.5           0.9\n",
       "4  2019-01-03 00:00:00       NaN       NaN        NaN           NaN"
      ]
     },
     "execution_count": 99,
     "metadata": {},
     "output_type": "execute_result"
    }
   ],
   "source": [
    "# making real data\n",
    "#data come from : http://idojarasbudapest.hu/archivalt-idojaras\n",
    "# by hand collected data\n",
    "#path2  = \"https://drive.google.com/drive/my-drive/ido1_2019.txt\"\n",
    "path = \"U:\\\\deeep\\\\ido1_2019.xlsx\"\n",
    "df = pd.read_excel(path,  sheet_name=\"2019\")\n",
    "df.head()"
   ]
  },
  {
   "cell_type": "code",
   "execution_count": 100,
   "metadata": {},
   "outputs": [
    {
     "data": {
      "text/html": [
       "<div>\n",
       "<style scoped>\n",
       "    .dataframe tbody tr th:only-of-type {\n",
       "        vertical-align: middle;\n",
       "    }\n",
       "\n",
       "    .dataframe tbody tr th {\n",
       "        vertical-align: top;\n",
       "    }\n",
       "\n",
       "    .dataframe thead th {\n",
       "        text-align: right;\n",
       "    }\n",
       "</style>\n",
       "<table border=\"1\" class=\"dataframe\">\n",
       "  <thead>\n",
       "    <tr style=\"text-align: right;\">\n",
       "      <th></th>\n",
       "      <th>Nap</th>\n",
       "      <th>Tmax[°C]</th>\n",
       "      <th>Tmin[°C]</th>\n",
       "      <th>Szél[m/s]</th>\n",
       "      <th>Csapadék[mm]</th>\n",
       "    </tr>\n",
       "  </thead>\n",
       "  <tbody>\n",
       "    <tr>\n",
       "      <th>0</th>\n",
       "      <td>2019-01-01 00:00:00</td>\n",
       "      <td>2.7</td>\n",
       "      <td>-4.6</td>\n",
       "      <td>6.1</td>\n",
       "      <td>0.9</td>\n",
       "    </tr>\n",
       "    <tr>\n",
       "      <th>1</th>\n",
       "      <td>kedd</td>\n",
       "      <td>2.7</td>\n",
       "      <td>-4.6</td>\n",
       "      <td>6.1</td>\n",
       "      <td>0.9</td>\n",
       "    </tr>\n",
       "    <tr>\n",
       "      <th>2</th>\n",
       "      <td>2019-01-02 00:00:00</td>\n",
       "      <td>3.1</td>\n",
       "      <td>-0.7</td>\n",
       "      <td>9.5</td>\n",
       "      <td>0.9</td>\n",
       "    </tr>\n",
       "    <tr>\n",
       "      <th>3</th>\n",
       "      <td>szerda</td>\n",
       "      <td>3.1</td>\n",
       "      <td>-0.7</td>\n",
       "      <td>9.5</td>\n",
       "      <td>0.9</td>\n",
       "    </tr>\n",
       "    <tr>\n",
       "      <th>4</th>\n",
       "      <td>2019-01-03 00:00:00</td>\n",
       "      <td>0.3</td>\n",
       "      <td>-3.3</td>\n",
       "      <td>7.9</td>\n",
       "      <td>0.1</td>\n",
       "    </tr>\n",
       "  </tbody>\n",
       "</table>\n",
       "</div>"
      ],
      "text/plain": [
       "                   Nap  Tmax[°C]  Tmin[°C]  Szél[m/s]  Csapadék[mm]\n",
       "0  2019-01-01 00:00:00       2.7      -4.6        6.1           0.9\n",
       "1                 kedd       2.7      -4.6        6.1           0.9\n",
       "2  2019-01-02 00:00:00       3.1      -0.7        9.5           0.9\n",
       "3               szerda       3.1      -0.7        9.5           0.9\n",
       "4  2019-01-03 00:00:00       0.3      -3.3        7.9           0.1"
      ]
     },
     "execution_count": 100,
     "metadata": {},
     "output_type": "execute_result"
    }
   ],
   "source": [
    "# backfilling the data to the date rows\n",
    "df.fillna(method='bfill', inplace=True)\n",
    "df.head()"
   ]
  },
  {
   "cell_type": "code",
   "execution_count": 101,
   "metadata": {},
   "outputs": [
    {
     "data": {
      "text/html": [
       "<div>\n",
       "<style scoped>\n",
       "    .dataframe tbody tr th:only-of-type {\n",
       "        vertical-align: middle;\n",
       "    }\n",
       "\n",
       "    .dataframe tbody tr th {\n",
       "        vertical-align: top;\n",
       "    }\n",
       "\n",
       "    .dataframe thead th {\n",
       "        text-align: right;\n",
       "    }\n",
       "</style>\n",
       "<table border=\"1\" class=\"dataframe\">\n",
       "  <thead>\n",
       "    <tr style=\"text-align: right;\">\n",
       "      <th></th>\n",
       "      <th>Nap</th>\n",
       "      <th>Tmax[°C]</th>\n",
       "      <th>Tmin[°C]</th>\n",
       "      <th>Szél[m/s]</th>\n",
       "      <th>Csapadék[mm]</th>\n",
       "    </tr>\n",
       "  </thead>\n",
       "  <tbody>\n",
       "    <tr>\n",
       "      <th>0</th>\n",
       "      <td>2019-01-01 00:00:00</td>\n",
       "      <td>2.7</td>\n",
       "      <td>-4.6</td>\n",
       "      <td>6.1</td>\n",
       "      <td>0.9</td>\n",
       "    </tr>\n",
       "    <tr>\n",
       "      <th>2</th>\n",
       "      <td>2019-01-02 00:00:00</td>\n",
       "      <td>3.1</td>\n",
       "      <td>-0.7</td>\n",
       "      <td>9.5</td>\n",
       "      <td>0.9</td>\n",
       "    </tr>\n",
       "    <tr>\n",
       "      <th>4</th>\n",
       "      <td>2019-01-03 00:00:00</td>\n",
       "      <td>0.3</td>\n",
       "      <td>-3.3</td>\n",
       "      <td>7.9</td>\n",
       "      <td>0.1</td>\n",
       "    </tr>\n",
       "    <tr>\n",
       "      <th>6</th>\n",
       "      <td>2019-01-04 00:00:00</td>\n",
       "      <td>-1.0</td>\n",
       "      <td>-6.3</td>\n",
       "      <td>5.4</td>\n",
       "      <td>0.2</td>\n",
       "    </tr>\n",
       "    <tr>\n",
       "      <th>8</th>\n",
       "      <td>2019-01-05 00:00:00</td>\n",
       "      <td>2.2</td>\n",
       "      <td>-3.2</td>\n",
       "      <td>5.8</td>\n",
       "      <td>4.0</td>\n",
       "    </tr>\n",
       "  </tbody>\n",
       "</table>\n",
       "</div>"
      ],
      "text/plain": [
       "                   Nap  Tmax[°C]  Tmin[°C]  Szél[m/s]  Csapadék[mm]\n",
       "0  2019-01-01 00:00:00       2.7      -4.6        6.1           0.9\n",
       "2  2019-01-02 00:00:00       3.1      -0.7        9.5           0.9\n",
       "4  2019-01-03 00:00:00       0.3      -3.3        7.9           0.1\n",
       "6  2019-01-04 00:00:00      -1.0      -6.3        5.4           0.2\n",
       "8  2019-01-05 00:00:00       2.2      -3.2        5.8           4.0"
      ]
     },
     "execution_count": 101,
     "metadata": {},
     "output_type": "execute_result"
    }
   ],
   "source": [
    "# clear the rows of the days\n",
    "df = df.loc[df.index %2 == 0]\n",
    "df.head()"
   ]
  },
  {
   "cell_type": "code",
   "execution_count": 102,
   "metadata": {},
   "outputs": [
    {
     "data": {
      "text/html": [
       "<div>\n",
       "<style scoped>\n",
       "    .dataframe tbody tr th:only-of-type {\n",
       "        vertical-align: middle;\n",
       "    }\n",
       "\n",
       "    .dataframe tbody tr th {\n",
       "        vertical-align: top;\n",
       "    }\n",
       "\n",
       "    .dataframe thead th {\n",
       "        text-align: right;\n",
       "    }\n",
       "</style>\n",
       "<table border=\"1\" class=\"dataframe\">\n",
       "  <thead>\n",
       "    <tr style=\"text-align: right;\">\n",
       "      <th></th>\n",
       "      <th>Tmax[°C]</th>\n",
       "      <th>Tmin[°C]</th>\n",
       "      <th>Szél[m/s]</th>\n",
       "      <th>Csapadék[mm]</th>\n",
       "    </tr>\n",
       "    <tr>\n",
       "      <th>Nap</th>\n",
       "      <th></th>\n",
       "      <th></th>\n",
       "      <th></th>\n",
       "      <th></th>\n",
       "    </tr>\n",
       "  </thead>\n",
       "  <tbody>\n",
       "    <tr>\n",
       "      <th>2019-10-24</th>\n",
       "      <td>22.1</td>\n",
       "      <td>14.8</td>\n",
       "      <td>2.8</td>\n",
       "      <td>0.0</td>\n",
       "    </tr>\n",
       "    <tr>\n",
       "      <th>2019-10-25</th>\n",
       "      <td>21.9</td>\n",
       "      <td>14.7</td>\n",
       "      <td>2.3</td>\n",
       "      <td>0.0</td>\n",
       "    </tr>\n",
       "    <tr>\n",
       "      <th>2019-10-26</th>\n",
       "      <td>19.7</td>\n",
       "      <td>13.7</td>\n",
       "      <td>1.7</td>\n",
       "      <td>0.0</td>\n",
       "    </tr>\n",
       "    <tr>\n",
       "      <th>2019-10-27</th>\n",
       "      <td>20.4</td>\n",
       "      <td>13.6</td>\n",
       "      <td>1.2</td>\n",
       "      <td>0.0</td>\n",
       "    </tr>\n",
       "    <tr>\n",
       "      <th>2019-10-28</th>\n",
       "      <td>17.2</td>\n",
       "      <td>12.3</td>\n",
       "      <td>4.0</td>\n",
       "      <td>0.0</td>\n",
       "    </tr>\n",
       "  </tbody>\n",
       "</table>\n",
       "</div>"
      ],
      "text/plain": [
       "            Tmax[°C]  Tmin[°C]  Szél[m/s]  Csapadék[mm]\n",
       "Nap                                                    \n",
       "2019-10-24      22.1      14.8        2.8           0.0\n",
       "2019-10-25      21.9      14.7        2.3           0.0\n",
       "2019-10-26      19.7      13.7        1.7           0.0\n",
       "2019-10-27      20.4      13.6        1.2           0.0\n",
       "2019-10-28      17.2      12.3        4.0           0.0"
      ]
     },
     "execution_count": 102,
     "metadata": {},
     "output_type": "execute_result"
    }
   ],
   "source": [
    "df.set_index('Nap', inplace=True) \n",
    "df.tail()"
   ]
  },
  {
   "cell_type": "code",
   "execution_count": 103,
   "metadata": {
    "scrolled": true
   },
   "outputs": [
    {
     "data": {
      "text/plain": [
       "((201, 4), (201,))"
      ]
     },
     "execution_count": 103,
     "metadata": {},
     "output_type": "execute_result"
    }
   ],
   "source": [
    "#Making a treain-test datasets\n",
    "X = df.copy()\n",
    "# the target is the average of the maximal and minimal tempratures\n",
    "y = df['Tmax[°C]'] + df['Tmin[°C]'] / 2\n",
    "\n",
    "\n",
    "splitfactor = 1/3\n",
    "split = int(len(X)*splitfactor)\n",
    "# splitting the data by hand at 666\n",
    "X_tr, y_tr = X[:-split], y[:-split]\n",
    "X_val, y_val = X[split:], y[split:]\n",
    "\n",
    "\n",
    "in_shape = X_tr.shape # store the number of features\n",
    "X_tr.shape, y_tr.shape"
   ]
  },
  {
   "cell_type": "code",
   "execution_count": 109,
   "metadata": {
    "colab": {},
    "colab_type": "code",
    "id": "LjwV_vxH54jp"
   },
   "outputs": [
    {
     "name": "stdout",
     "output_type": "stream",
     "text": [
      "_________________________________________________________________\n",
      "Layer (type)                 Output Shape              Param #   \n",
      "=================================================================\n",
      "dense_21 (Dense)             (None, 12)                60        \n",
      "_________________________________________________________________\n",
      "activation_16 (Activation)   (None, 12)                0         \n",
      "_________________________________________________________________\n",
      "dense_22 (Dense)             (None, 12)                156       \n",
      "_________________________________________________________________\n",
      "activation_17 (Activation)   (None, 12)                0         \n",
      "_________________________________________________________________\n",
      "dense_23 (Dense)             (None, 1)                 13        \n",
      "_________________________________________________________________\n",
      "activation_18 (Activation)   (None, 1)                 0         \n",
      "=================================================================\n",
      "Total params: 229\n",
      "Trainable params: 229\n",
      "Non-trainable params: 0\n",
      "_________________________________________________________________\n"
     ]
    }
   ],
   "source": [
    "# building the model\n",
    "mod = Sequential()\n",
    "#layer1- input\n",
    "out1 = 12\n",
    "mod.add(Dense(out1, input_shape=(X_tr.shape[1],)))  #  the output 12 neuron\n",
    "mod.add(Activation('relu')) # with relu \n",
    "\n",
    "#layer2\n",
    "out2 = 12\n",
    "mod.add(Dense(out2)) # output has 12 neuron\n",
    "mod.add(Activation('relu'))\n",
    "\n",
    "#layer3\n",
    "out3 = 1\n",
    "mod.add(Dense(out3)) \n",
    "mod.add(Activation('relu'))\n",
    "\n",
    "# compile , but not learn\n",
    "mod.compile(loss='mse', optimizer=SGD(lr=0.1, momentum=0.001), metrics=['mse'])\n",
    "mod.summary()"
   ]
  },
  {
   "cell_type": "code",
   "execution_count": 110,
   "metadata": {
    "colab": {},
    "colab_type": "code",
    "id": "y7CZvIDAZpxs"
   },
   "outputs": [],
   "source": [
    "from keras.callbacks import ReduceLROnPlateau\n",
    "reduceLR = ReduceLROnPlateau(monitor='val_score', patient=12, factor=0.75, min_lr=0.001)"
   ]
  },
  {
   "cell_type": "code",
   "execution_count": 111,
   "metadata": {
    "colab": {},
    "colab_type": "code",
    "collapsed": true,
    "id": "08cVY_hGYwHz"
   },
   "outputs": [
    {
     "name": "stdout",
     "output_type": "stream",
     "text": [
      "Epoch 1/50\n",
      "301/301 [==============================] - 2s 6ms/step - loss: 781.7523 - mean_squared_error: 781.7523\n",
      "Epoch 2/50\n",
      "301/301 [==============================] - 0s 361us/step - loss: 781.4033 - mean_squared_error: 781.4033\n",
      "Epoch 3/50\n",
      "112/301 [==========>...................] - ETA: 0s - loss: 812.7636 - mean_squared_error: 812.7636"
     ]
    },
    {
     "name": "stderr",
     "output_type": "stream",
     "text": [
      "U:\\anaconda3\\lib\\site-packages\\keras\\callbacks.py:1109: RuntimeWarning: Reduce LR on plateau conditioned on metric `val_score` which is not available. Available metrics are: loss,mean_squared_error,lr\n",
      "  (self.monitor, ','.join(list(logs.keys()))), RuntimeWarning\n"
     ]
    },
    {
     "name": "stdout",
     "output_type": "stream",
     "text": [
      "301/301 [==============================] - 0s 633us/step - loss: 781.4033 - mean_squared_error: 781.4033\n",
      "Epoch 4/50\n",
      "301/301 [==============================] - 0s 444us/step - loss: 781.4033 - mean_squared_error: 781.4033\n",
      "Epoch 5/50\n",
      "301/301 [==============================] - 0s 331us/step - loss: 781.4033 - mean_squared_error: 781.4033\n",
      "Epoch 6/50\n",
      "301/301 [==============================] - 0s 302us/step - loss: 781.4033 - mean_squared_error: 781.4033\n",
      "Epoch 7/50\n",
      "301/301 [==============================] - 0s 302us/step - loss: 781.4033 - mean_squared_error: 781.4033\n",
      "Epoch 8/50\n",
      "301/301 [==============================] - 0s 302us/step - loss: 781.4033 - mean_squared_error: 781.4033\n",
      "Epoch 9/50\n",
      "301/301 [==============================] - 0s 311us/step - loss: 781.4033 - mean_squared_error: 781.4033\n",
      "Epoch 10/50\n",
      "301/301 [==============================] - 0s 351us/step - loss: 781.4033 - mean_squared_error: 781.4033\n",
      "Epoch 11/50\n",
      "301/301 [==============================] - 0s 364us/step - loss: 781.4033 - mean_squared_error: 781.4033\n",
      "Epoch 12/50\n",
      "301/301 [==============================] - 0s 305us/step - loss: 781.4033 - mean_squared_error: 781.4033\n",
      "Epoch 13/50\n",
      "301/301 [==============================] - 0s 292us/step - loss: 781.4033 - mean_squared_error: 781.4033\n",
      "Epoch 14/50\n",
      "301/301 [==============================] - 0s 328us/step - loss: 781.4033 - mean_squared_error: 781.4033\n",
      "Epoch 15/50\n",
      "301/301 [==============================] - 0s 295us/step - loss: 781.4033 - mean_squared_error: 781.4033\n",
      "Epoch 16/50\n",
      "301/301 [==============================] - 0s 288us/step - loss: 781.4033 - mean_squared_error: 781.4033\n",
      "Epoch 17/50\n",
      "301/301 [==============================] - 0s 298us/step - loss: 781.4033 - mean_squared_error: 781.4033\n",
      "Epoch 18/50\n",
      "301/301 [==============================] - 0s 464us/step - loss: 781.4033 - mean_squared_error: 781.4033\n",
      "Epoch 19/50\n",
      "301/301 [==============================] - 0s 504us/step - loss: 781.4033 - mean_squared_error: 781.4033\n",
      "Epoch 20/50\n",
      "301/301 [==============================] - 0s 331us/step - loss: 781.4033 - mean_squared_error: 781.4033\n",
      "Epoch 21/50\n",
      "301/301 [==============================] - 0s 408us/step - loss: 781.4033 - mean_squared_error: 781.4033\n",
      "Epoch 22/50\n",
      "301/301 [==============================] - 0s 374us/step - loss: 781.4033 - mean_squared_error: 781.4033\n",
      "Epoch 23/50\n",
      "301/301 [==============================] - 0s 311us/step - loss: 781.4033 - mean_squared_error: 781.4033\n",
      "Epoch 24/50\n",
      "301/301 [==============================] - 0s 305us/step - loss: 781.4033 - mean_squared_error: 781.4033\n",
      "Epoch 25/50\n",
      "301/301 [==============================] - 0s 328us/step - loss: 781.4033 - mean_squared_error: 781.4033\n",
      "Epoch 26/50\n",
      "301/301 [==============================] - 0s 328us/step - loss: 781.4033 - mean_squared_error: 781.4033\n",
      "Epoch 27/50\n",
      "301/301 [==============================] - 0s 308us/step - loss: 781.4033 - mean_squared_error: 781.4033\n",
      "Epoch 28/50\n",
      "301/301 [==============================] - 0s 325us/step - loss: 781.4033 - mean_squared_error: 781.4033\n",
      "Epoch 29/50\n",
      "301/301 [==============================] - 0s 421us/step - loss: 781.4033 - mean_squared_error: 781.4033\n",
      "Epoch 30/50\n",
      "301/301 [==============================] - 0s 494us/step - loss: 781.4033 - mean_squared_error: 781.4033\n",
      "Epoch 31/50\n",
      "301/301 [==============================] - 0s 527us/step - loss: 781.4033 - mean_squared_error: 781.4033\n",
      "Epoch 32/50\n",
      "301/301 [==============================] - 0s 494us/step - loss: 781.4033 - mean_squared_error: 781.4033\n",
      "Epoch 33/50\n",
      "301/301 [==============================] - 0s 457us/step - loss: 781.4033 - mean_squared_error: 781.4033\n",
      "Epoch 34/50\n",
      "301/301 [==============================] - 0s 447us/step - loss: 781.4033 - mean_squared_error: 781.4033\n",
      "Epoch 35/50\n",
      "301/301 [==============================] - 0s 487us/step - loss: 781.4033 - mean_squared_error: 781.4033\n",
      "Epoch 36/50\n",
      "301/301 [==============================] - 0s 527us/step - loss: 781.4033 - mean_squared_error: 781.4033\n",
      "Epoch 37/50\n",
      "301/301 [==============================] - 0s 394us/step - loss: 781.4033 - mean_squared_error: 781.4033\n",
      "Epoch 38/50\n",
      "301/301 [==============================] - 0s 345us/step - loss: 781.4033 - mean_squared_error: 781.4033\n",
      "Epoch 39/50\n",
      "301/301 [==============================] - 0s 361us/step - loss: 781.4033 - mean_squared_error: 781.4033\n",
      "Epoch 40/50\n",
      "301/301 [==============================] - 0s 736us/step - loss: 781.4033 - mean_squared_error: 781.40330s - loss: 759.0780 - mean_squared_error: 759.\n",
      "Epoch 41/50\n",
      "301/301 [==============================] - 0s 368us/step - loss: 781.4033 - mean_squared_error: 781.4033\n",
      "Epoch 42/50\n",
      "301/301 [==============================] - 0s 524us/step - loss: 781.4033 - mean_squared_error: 781.4033\n",
      "Epoch 43/50\n",
      "301/301 [==============================] - 0s 464us/step - loss: 781.4033 - mean_squared_error: 781.4033\n",
      "Epoch 44/50\n",
      "301/301 [==============================] - 0s 388us/step - loss: 781.4033 - mean_squared_error: 781.4033\n",
      "Epoch 45/50\n",
      "301/301 [==============================] - 0s 341us/step - loss: 781.4033 - mean_squared_error: 781.4033\n",
      "Epoch 46/50\n",
      "301/301 [==============================] - 0s 328us/step - loss: 781.4033 - mean_squared_error: 781.4033\n",
      "Epoch 47/50\n",
      "301/301 [==============================] - 0s 335us/step - loss: 781.4033 - mean_squared_error: 781.4033\n",
      "Epoch 48/50\n",
      "301/301 [==============================] - 0s 318us/step - loss: 781.4033 - mean_squared_error: 781.4033\n",
      "Epoch 49/50\n",
      "301/301 [==============================] - 0s 384us/step - loss: 781.4033 - mean_squared_error: 781.4033\n",
      "Epoch 50/50\n",
      "301/301 [==============================] - 0s 437us/step - loss: 781.4033 - mean_squared_error: 781.4033\n"
     ]
    },
    {
     "data": {
      "text/plain": [
       "<keras.callbacks.History at 0x27492384a90>"
      ]
     },
     "execution_count": 111,
     "metadata": {},
     "output_type": "execute_result"
    }
   ],
   "source": [
    "batchs = int(np.sqrt(in_shape[0]))\n",
    "mod.fit(X, y, batch_size=batchs, epochs=50, callbacks=[reduceLR], verbose=1, shuffle=True)\n"
   ]
  },
  {
   "cell_type": "code",
   "execution_count": 112,
   "metadata": {
    "colab": {},
    "colab_type": "code",
    "id": "iIB2ZWy5j4US"
   },
   "outputs": [
    {
     "name": "stdout",
     "output_type": "stream",
     "text": [
      "201/201 [==============================] - 0s 1ms/step\n"
     ]
    },
    {
     "data": {
      "text/plain": [
       "[1105.7350227014342, 1105.7350227014342]"
      ]
     },
     "execution_count": 112,
     "metadata": {},
     "output_type": "execute_result"
    }
   ],
   "source": [
    "mod.evaluate(X_val, y_val, batch_size=batchs, verbose=1)"
   ]
  },
  {
   "cell_type": "code",
   "execution_count": null,
   "metadata": {},
   "outputs": [],
   "source": []
  },
  {
   "cell_type": "code",
   "execution_count": null,
   "metadata": {},
   "outputs": [],
   "source": []
  },
  {
   "cell_type": "code",
   "execution_count": null,
   "metadata": {},
   "outputs": [],
   "source": []
  }
 ],
 "metadata": {
  "accelerator": "GPU",
  "colab": {
   "collapsed_sections": [],
   "name": "Lil hw3.ipynb",
   "private_outputs": true,
   "provenance": []
  },
  "kernelspec": {
   "display_name": "Python 3",
   "language": "python",
   "name": "python3"
  },
  "language_info": {
   "codemirror_mode": {
    "name": "ipython",
    "version": 3
   },
   "file_extension": ".py",
   "mimetype": "text/x-python",
   "name": "python",
   "nbconvert_exporter": "python",
   "pygments_lexer": "ipython3",
   "version": "3.7.3"
  }
 },
 "nbformat": 4,
 "nbformat_minor": 1
}
